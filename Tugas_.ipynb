{
  "nbformat": 4,
  "nbformat_minor": 0,
  "metadata": {
    "colab": {
      "provenance": [],
      "authorship_tag": "ABX9TyPtSzU4s2xfhd9nr3pttSPV",
      "include_colab_link": true
    },
    "kernelspec": {
      "name": "python3",
      "display_name": "Python 3"
    },
    "language_info": {
      "name": "python"
    }
  },
  "cells": [
    {
      "cell_type": "markdown",
      "metadata": {
        "id": "view-in-github",
        "colab_type": "text"
      },
      "source": [
        "<a href=\"https://colab.research.google.com/github/Maulana527/TugasPertama/blob/main/Tugas_.ipynb\" target=\"_parent\"><img src=\"https://colab.research.google.com/assets/colab-badge.svg\" alt=\"Open In Colab\"/></a>"
      ]
    },
    {
      "cell_type": "code",
      "execution_count": null,
      "metadata": {
        "id": "0vaTTcGcNs8I",
        "colab": {
          "base_uri": "https://localhost:8080/"
        },
        "outputId": "1e1de20b-888b-4751-bb08-d9489cc21f8b"
      },
      "outputs": [
        {
          "output_type": "stream",
          "name": "stdout",
          "text": [
            "Drive already mounted at /content/drive; to attempt to forcibly remount, call drive.mount(\"/content/drive\", force_remount=True).\n"
          ]
        }
      ],
      "source": [
        "# This Python 3 environment comes with many helpful analytics libraries installed\n",
        "# It is defined by the kaggle/python Docker image: https://github.com/kaggle/docker-python\n",
        "# For example, here's several helpful packages to load\n",
        "\n",
        "from google.colab import drive\n",
        "drive.mount('/content/drive')\n",
        "\n",
        "\n",
        "\n",
        "\n",
        "\n",
        "import os\n",
        "for dirname, _, filenames in os.walk('/kaggle/input'):\n",
        "    for filename in filenames:\n",
        "        print(os.path.join(dirname, filename))\n",
        "\n",
        "import numpy as np # linear algebra\n",
        "import pandas as pd # data processing, CSV file I/O (e.g. pd.read_csv)\n",
        "import seaborn as sns\n",
        "import matplotlib.pyplot as plt\n",
        "%matplotlib inline\n",
        "\n",
        "# Input data files are available in the read-only \"../input/\" directory\n",
        "# For example, running this (by clicking run or pressing Shift+Enter) will list all files under the input directory\n",
        "\n",
        "\n",
        "# You can write up to 20GB to the current directory (/kaggle/working/) that gets preserved as output when you create a version using \"Save & Run All\"\n",
        "# You can also write temporary files to /kaggle/temp/, but they won't be saved outside of the current session"
      ]
    },
    {
      "cell_type": "code",
      "source": [
        "path = \"/content/drive/MyDrive/data/Colab_Notebooks.csv\"\n",
        "df = pd.read_csv(path)"
      ],
      "metadata": {
        "colab": {
          "base_uri": "https://localhost:8080/",
          "height": 304
        },
        "id": "LkdlmsWQWbgN",
        "outputId": "e7968185-0dea-4798-88c4-efb53594e16f"
      },
      "execution_count": null,
      "outputs": [
        {
          "output_type": "error",
          "ename": "FileNotFoundError",
          "evalue": "[Errno 2] No such file or directory: '/content/drive/MyDrive/data/Colab_Notebooks.csv'",
          "traceback": [
            "\u001b[0;31m---------------------------------------------------------------------------\u001b[0m",
            "\u001b[0;31mFileNotFoundError\u001b[0m                         Traceback (most recent call last)",
            "\u001b[0;32m<ipython-input-16-77f6838d6abf>\u001b[0m in \u001b[0;36m<cell line: 2>\u001b[0;34m()\u001b[0m\n\u001b[1;32m      1\u001b[0m \u001b[0mpath\u001b[0m \u001b[0;34m=\u001b[0m \u001b[0;34m\"/content/drive/MyDrive/data/Colab_Notebooks.csv\"\u001b[0m\u001b[0;34m\u001b[0m\u001b[0;34m\u001b[0m\u001b[0m\n\u001b[0;32m----> 2\u001b[0;31m \u001b[0mdf\u001b[0m \u001b[0;34m=\u001b[0m \u001b[0mpd\u001b[0m\u001b[0;34m.\u001b[0m\u001b[0mread_csv\u001b[0m\u001b[0;34m(\u001b[0m\u001b[0mpath\u001b[0m\u001b[0;34m)\u001b[0m\u001b[0;34m\u001b[0m\u001b[0;34m\u001b[0m\u001b[0m\n\u001b[0m",
            "\u001b[0;32m/usr/local/lib/python3.10/dist-packages/pandas/io/parsers/readers.py\u001b[0m in \u001b[0;36mread_csv\u001b[0;34m(filepath_or_buffer, sep, delimiter, header, names, index_col, usecols, dtype, engine, converters, true_values, false_values, skipinitialspace, skiprows, skipfooter, nrows, na_values, keep_default_na, na_filter, verbose, skip_blank_lines, parse_dates, infer_datetime_format, keep_date_col, date_parser, date_format, dayfirst, cache_dates, iterator, chunksize, compression, thousands, decimal, lineterminator, quotechar, quoting, doublequote, escapechar, comment, encoding, encoding_errors, dialect, on_bad_lines, delim_whitespace, low_memory, memory_map, float_precision, storage_options, dtype_backend)\u001b[0m\n\u001b[1;32m   1024\u001b[0m     \u001b[0mkwds\u001b[0m\u001b[0;34m.\u001b[0m\u001b[0mupdate\u001b[0m\u001b[0;34m(\u001b[0m\u001b[0mkwds_defaults\u001b[0m\u001b[0;34m)\u001b[0m\u001b[0;34m\u001b[0m\u001b[0;34m\u001b[0m\u001b[0m\n\u001b[1;32m   1025\u001b[0m \u001b[0;34m\u001b[0m\u001b[0m\n\u001b[0;32m-> 1026\u001b[0;31m     \u001b[0;32mreturn\u001b[0m \u001b[0m_read\u001b[0m\u001b[0;34m(\u001b[0m\u001b[0mfilepath_or_buffer\u001b[0m\u001b[0;34m,\u001b[0m \u001b[0mkwds\u001b[0m\u001b[0;34m)\u001b[0m\u001b[0;34m\u001b[0m\u001b[0;34m\u001b[0m\u001b[0m\n\u001b[0m\u001b[1;32m   1027\u001b[0m \u001b[0;34m\u001b[0m\u001b[0m\n\u001b[1;32m   1028\u001b[0m \u001b[0;34m\u001b[0m\u001b[0m\n",
            "\u001b[0;32m/usr/local/lib/python3.10/dist-packages/pandas/io/parsers/readers.py\u001b[0m in \u001b[0;36m_read\u001b[0;34m(filepath_or_buffer, kwds)\u001b[0m\n\u001b[1;32m    618\u001b[0m \u001b[0;34m\u001b[0m\u001b[0m\n\u001b[1;32m    619\u001b[0m     \u001b[0;31m# Create the parser.\u001b[0m\u001b[0;34m\u001b[0m\u001b[0;34m\u001b[0m\u001b[0m\n\u001b[0;32m--> 620\u001b[0;31m     \u001b[0mparser\u001b[0m \u001b[0;34m=\u001b[0m \u001b[0mTextFileReader\u001b[0m\u001b[0;34m(\u001b[0m\u001b[0mfilepath_or_buffer\u001b[0m\u001b[0;34m,\u001b[0m \u001b[0;34m**\u001b[0m\u001b[0mkwds\u001b[0m\u001b[0;34m)\u001b[0m\u001b[0;34m\u001b[0m\u001b[0;34m\u001b[0m\u001b[0m\n\u001b[0m\u001b[1;32m    621\u001b[0m \u001b[0;34m\u001b[0m\u001b[0m\n\u001b[1;32m    622\u001b[0m     \u001b[0;32mif\u001b[0m \u001b[0mchunksize\u001b[0m \u001b[0;32mor\u001b[0m \u001b[0miterator\u001b[0m\u001b[0;34m:\u001b[0m\u001b[0;34m\u001b[0m\u001b[0;34m\u001b[0m\u001b[0m\n",
            "\u001b[0;32m/usr/local/lib/python3.10/dist-packages/pandas/io/parsers/readers.py\u001b[0m in \u001b[0;36m__init__\u001b[0;34m(self, f, engine, **kwds)\u001b[0m\n\u001b[1;32m   1618\u001b[0m \u001b[0;34m\u001b[0m\u001b[0m\n\u001b[1;32m   1619\u001b[0m         \u001b[0mself\u001b[0m\u001b[0;34m.\u001b[0m\u001b[0mhandles\u001b[0m\u001b[0;34m:\u001b[0m \u001b[0mIOHandles\u001b[0m \u001b[0;34m|\u001b[0m \u001b[0;32mNone\u001b[0m \u001b[0;34m=\u001b[0m \u001b[0;32mNone\u001b[0m\u001b[0;34m\u001b[0m\u001b[0;34m\u001b[0m\u001b[0m\n\u001b[0;32m-> 1620\u001b[0;31m         \u001b[0mself\u001b[0m\u001b[0;34m.\u001b[0m\u001b[0m_engine\u001b[0m \u001b[0;34m=\u001b[0m \u001b[0mself\u001b[0m\u001b[0;34m.\u001b[0m\u001b[0m_make_engine\u001b[0m\u001b[0;34m(\u001b[0m\u001b[0mf\u001b[0m\u001b[0;34m,\u001b[0m \u001b[0mself\u001b[0m\u001b[0;34m.\u001b[0m\u001b[0mengine\u001b[0m\u001b[0;34m)\u001b[0m\u001b[0;34m\u001b[0m\u001b[0;34m\u001b[0m\u001b[0m\n\u001b[0m\u001b[1;32m   1621\u001b[0m \u001b[0;34m\u001b[0m\u001b[0m\n\u001b[1;32m   1622\u001b[0m     \u001b[0;32mdef\u001b[0m \u001b[0mclose\u001b[0m\u001b[0;34m(\u001b[0m\u001b[0mself\u001b[0m\u001b[0;34m)\u001b[0m \u001b[0;34m->\u001b[0m \u001b[0;32mNone\u001b[0m\u001b[0;34m:\u001b[0m\u001b[0;34m\u001b[0m\u001b[0;34m\u001b[0m\u001b[0m\n",
            "\u001b[0;32m/usr/local/lib/python3.10/dist-packages/pandas/io/parsers/readers.py\u001b[0m in \u001b[0;36m_make_engine\u001b[0;34m(self, f, engine)\u001b[0m\n\u001b[1;32m   1878\u001b[0m                 \u001b[0;32mif\u001b[0m \u001b[0;34m\"b\"\u001b[0m \u001b[0;32mnot\u001b[0m \u001b[0;32min\u001b[0m \u001b[0mmode\u001b[0m\u001b[0;34m:\u001b[0m\u001b[0;34m\u001b[0m\u001b[0;34m\u001b[0m\u001b[0m\n\u001b[1;32m   1879\u001b[0m                     \u001b[0mmode\u001b[0m \u001b[0;34m+=\u001b[0m \u001b[0;34m\"b\"\u001b[0m\u001b[0;34m\u001b[0m\u001b[0;34m\u001b[0m\u001b[0m\n\u001b[0;32m-> 1880\u001b[0;31m             self.handles = get_handle(\n\u001b[0m\u001b[1;32m   1881\u001b[0m                 \u001b[0mf\u001b[0m\u001b[0;34m,\u001b[0m\u001b[0;34m\u001b[0m\u001b[0;34m\u001b[0m\u001b[0m\n\u001b[1;32m   1882\u001b[0m                 \u001b[0mmode\u001b[0m\u001b[0;34m,\u001b[0m\u001b[0;34m\u001b[0m\u001b[0;34m\u001b[0m\u001b[0m\n",
            "\u001b[0;32m/usr/local/lib/python3.10/dist-packages/pandas/io/common.py\u001b[0m in \u001b[0;36mget_handle\u001b[0;34m(path_or_buf, mode, encoding, compression, memory_map, is_text, errors, storage_options)\u001b[0m\n\u001b[1;32m    871\u001b[0m         \u001b[0;32mif\u001b[0m \u001b[0mioargs\u001b[0m\u001b[0;34m.\u001b[0m\u001b[0mencoding\u001b[0m \u001b[0;32mand\u001b[0m \u001b[0;34m\"b\"\u001b[0m \u001b[0;32mnot\u001b[0m \u001b[0;32min\u001b[0m \u001b[0mioargs\u001b[0m\u001b[0;34m.\u001b[0m\u001b[0mmode\u001b[0m\u001b[0;34m:\u001b[0m\u001b[0;34m\u001b[0m\u001b[0;34m\u001b[0m\u001b[0m\n\u001b[1;32m    872\u001b[0m             \u001b[0;31m# Encoding\u001b[0m\u001b[0;34m\u001b[0m\u001b[0;34m\u001b[0m\u001b[0m\n\u001b[0;32m--> 873\u001b[0;31m             handle = open(\n\u001b[0m\u001b[1;32m    874\u001b[0m                 \u001b[0mhandle\u001b[0m\u001b[0;34m,\u001b[0m\u001b[0;34m\u001b[0m\u001b[0;34m\u001b[0m\u001b[0m\n\u001b[1;32m    875\u001b[0m                 \u001b[0mioargs\u001b[0m\u001b[0;34m.\u001b[0m\u001b[0mmode\u001b[0m\u001b[0;34m,\u001b[0m\u001b[0;34m\u001b[0m\u001b[0;34m\u001b[0m\u001b[0m\n",
            "\u001b[0;31mFileNotFoundError\u001b[0m: [Errno 2] No such file or directory: '/content/drive/MyDrive/data/Colab_Notebooks.csv'"
          ]
        }
      ]
    },
    {
      "cell_type": "code",
      "source": [
        "df_2011 = pd.read_csv(\"../input/pendidikan-indonesia-bps-20112017/Angka Partisipasi Sekolah 2011.csv\")\n",
        "df_2012 = pd.read_csv(\"../input/pendidikan-indonesia-bps-20112017/Angka Partisipasi Sekolah 2012.csv\")\n",
        "df_2013 = pd.read_csv(\"../input/pendidikan-indonesia-bps-20112017/Angka Partisipasi Sekolah 2013.csv\")\n",
        "df_2014 = pd.read_csv(\"../input/pendidikan-indonesia-bps-20112017/Angka Partisipasi Sekolah 2014.csv\")\n",
        "df_2015 = pd.read_csv(\"../input/pendidikan-indonesia-bps-20112017/Angka Partisipasi Sekolah 2015.csv\")\n",
        "df_2016 = pd.read_csv(\"../input/pendidikan-indonesia-bps-20112017/Angka Partisipasi Sekolah 2016.csv\")\n",
        "df_2017 = pd.read_csv(\"../input/pendidikan-indonesia-bps-20112017/Angka Partisipasi Sekolah 2017.csv\")\n",
        "df_melek_huruf_2015 = pd.read_csv(\"../input/pendidikan-indonesia-bps-20112017/Angka Melek Huruf 2015.csv\")\n",
        "df_melek_huruf_2016 = pd.read_csv(\"../input/pendidikan-indonesia-bps-20112017/Angka Melek Huruf 2016.csv\")"
      ],
      "metadata": {
        "colab": {
          "base_uri": "https://localhost:8080/",
          "height": 211
        },
        "id": "MhZdta0qREf4",
        "outputId": "d3dccac8-ce19-417d-c5de-16b398e46c58"
      },
      "execution_count": null,
      "outputs": [
        {
          "output_type": "error",
          "ename": "NameError",
          "evalue": "name 'pd' is not defined",
          "traceback": [
            "\u001b[0;31m---------------------------------------------------------------------------\u001b[0m",
            "\u001b[0;31mNameError\u001b[0m                                 Traceback (most recent call last)",
            "\u001b[0;32m<ipython-input-7-bef21c24fbdc>\u001b[0m in \u001b[0;36m<cell line: 1>\u001b[0;34m()\u001b[0m\n\u001b[0;32m----> 1\u001b[0;31m \u001b[0mdf_2011\u001b[0m \u001b[0;34m=\u001b[0m \u001b[0mpd\u001b[0m\u001b[0;34m.\u001b[0m\u001b[0mread_csv\u001b[0m\u001b[0;34m(\u001b[0m\u001b[0;34m\"../input/pendidikan-indonesia-bps-20112017/Angka Partisipasi Sekolah 2011.csv\"\u001b[0m\u001b[0;34m)\u001b[0m\u001b[0;34m\u001b[0m\u001b[0;34m\u001b[0m\u001b[0m\n\u001b[0m\u001b[1;32m      2\u001b[0m \u001b[0mdf_2012\u001b[0m \u001b[0;34m=\u001b[0m \u001b[0mpd\u001b[0m\u001b[0;34m.\u001b[0m\u001b[0mread_csv\u001b[0m\u001b[0;34m(\u001b[0m\u001b[0;34m\"../input/pendidikan-indonesia-bps-20112017/Angka Partisipasi Sekolah 2012.csv\"\u001b[0m\u001b[0;34m)\u001b[0m\u001b[0;34m\u001b[0m\u001b[0;34m\u001b[0m\u001b[0m\n\u001b[1;32m      3\u001b[0m \u001b[0mdf_2013\u001b[0m \u001b[0;34m=\u001b[0m \u001b[0mpd\u001b[0m\u001b[0;34m.\u001b[0m\u001b[0mread_csv\u001b[0m\u001b[0;34m(\u001b[0m\u001b[0;34m\"../input/pendidikan-indonesia-bps-20112017/Angka Partisipasi Sekolah 2013.csv\"\u001b[0m\u001b[0;34m)\u001b[0m\u001b[0;34m\u001b[0m\u001b[0;34m\u001b[0m\u001b[0m\n\u001b[1;32m      4\u001b[0m \u001b[0mdf_2014\u001b[0m \u001b[0;34m=\u001b[0m \u001b[0mpd\u001b[0m\u001b[0;34m.\u001b[0m\u001b[0mread_csv\u001b[0m\u001b[0;34m(\u001b[0m\u001b[0;34m\"../input/pendidikan-indonesia-bps-20112017/Angka Partisipasi Sekolah 2014.csv\"\u001b[0m\u001b[0;34m)\u001b[0m\u001b[0;34m\u001b[0m\u001b[0;34m\u001b[0m\u001b[0m\n\u001b[1;32m      5\u001b[0m \u001b[0mdf_2015\u001b[0m \u001b[0;34m=\u001b[0m \u001b[0mpd\u001b[0m\u001b[0;34m.\u001b[0m\u001b[0mread_csv\u001b[0m\u001b[0;34m(\u001b[0m\u001b[0;34m\"../input/pendidikan-indonesia-bps-20112017/Angka Partisipasi Sekolah 2015.csv\"\u001b[0m\u001b[0;34m)\u001b[0m\u001b[0;34m\u001b[0m\u001b[0;34m\u001b[0m\u001b[0m\n",
            "\u001b[0;31mNameError\u001b[0m: name 'pd' is not defined"
          ]
        }
      ]
    },
    {
      "cell_type": "markdown",
      "source": [
        "# New Section"
      ],
      "metadata": {
        "id": "JxFe2al0Vrmx"
      }
    },
    {
      "cell_type": "code",
      "source": [
        "df_2011.info()"
      ],
      "metadata": {
        "id": "tWrLrYFyN2q4",
        "colab": {
          "base_uri": "https://localhost:8080/",
          "height": 141
        },
        "outputId": "a59315ed-bac2-4ce9-dad3-0f6936be7f60"
      },
      "execution_count": null,
      "outputs": [
        {
          "output_type": "error",
          "ename": "NameError",
          "evalue": "name 'df_2011' is not defined",
          "traceback": [
            "\u001b[0;31m---------------------------------------------------------------------------\u001b[0m",
            "\u001b[0;31mNameError\u001b[0m                                 Traceback (most recent call last)",
            "\u001b[0;32m<ipython-input-9-a4a52cd23685>\u001b[0m in \u001b[0;36m<cell line: 0>\u001b[0;34m()\u001b[0m\n\u001b[0;32m----> 1\u001b[0;31m \u001b[0mdf_2011\u001b[0m\u001b[0;34m.\u001b[0m\u001b[0minfo\u001b[0m\u001b[0;34m(\u001b[0m\u001b[0;34m)\u001b[0m\u001b[0;34m\u001b[0m\u001b[0;34m\u001b[0m\u001b[0m\n\u001b[0m",
            "\u001b[0;31mNameError\u001b[0m: name 'df_2011' is not defined"
          ]
        }
      ]
    },
    {
      "cell_type": "code",
      "source": [
        "df_2011.isna().sum()"
      ],
      "metadata": {
        "id": "kgxcl5poN5va"
      },
      "execution_count": null,
      "outputs": []
    },
    {
      "cell_type": "code",
      "source": [
        "df_2011.describe()"
      ],
      "metadata": {
        "id": "ZpSGpBgHN72A"
      },
      "execution_count": null,
      "outputs": []
    },
    {
      "cell_type": "code",
      "source": [
        "df_2011[\"SD\"] = pd.to_numeric(df_2011[\"SD\"], downcast='float', errors='coerce')\n",
        "df_2011[\"SMP\"] = pd.to_numeric(df_2011[\"SMP\"], downcast='float', errors='coerce')\n",
        "df_2011[\"SMA\"] = pd.to_numeric(df_2011[\"SMA\"], downcast='float', errors='coerce')\n",
        "df_2011[\"PT\"] = pd.to_numeric(df_2011[\"PT\"], downcast='float', errors='coerce')\n",
        "\n",
        "df_2012[\"SD\"] = pd.to_numeric(df_2012[\"SD\"], downcast='float', errors='coerce')\n",
        "df_2012[\"SMP\"] = pd.to_numeric(df_2012[\"SMP\"], downcast='float', errors='coerce')\n",
        "df_2012[\"SMA\"] = pd.to_numeric(df_2012[\"SMA\"], downcast='float', errors='coerce')\n",
        "df_2012[\"PT\"] = pd.to_numeric(df_2012[\"PT\"], downcast='float', errors='coerce')\n",
        "\n",
        "df_2013[\"SD\"] = pd.to_numeric(df_2013[\"SD\"], downcast='float', errors='coerce')\n",
        "df_2013[\"SMP\"] = pd.to_numeric(df_2013[\"SMP\"], downcast='float', errors='coerce')\n",
        "df_2013[\"SMA\"] = pd.to_numeric(df_2013[\"SMA\"], downcast='float', errors='coerce')\n",
        "df_2013[\"PT\"] = pd.to_numeric(df_2013[\"PT\"], downcast='float', errors='coerce')\n",
        "\n",
        "df_2014[\"SD\"] = pd.to_numeric(df_2014[\"SD\"], downcast='float', errors='coerce')\n",
        "df_2014[\"SMP\"] = pd.to_numeric(df_2014[\"SMP\"], downcast='float', errors='coerce')\n",
        "df_2014[\"SMA\"] = pd.to_numeric(df_2014[\"SMA\"], downcast='float', errors='coerce')\n",
        "df_2014[\"PT\"] = pd.to_numeric(df_2014[\"PT\"], downcast='float', errors='coerce')\n",
        "\n",
        "df_2015[\"SD\"] = pd.to_numeric(df_2015[\"SD\"], downcast='float', errors='coerce')\n",
        "df_2015[\"SMP\"] = pd.to_numeric(df_2015[\"SMP\"], downcast='float', errors='coerce')\n",
        "df_2015[\"SMA\"] = pd.to_numeric(df_2015[\"SMA\"], downcast='float', errors='coerce')\n",
        "df_2015[\"PT\"] = pd.to_numeric(df_2015[\"PT\"], downcast='float', errors='coerce')\n",
        "\n",
        "df_2016[\"SD\"] = pd.to_numeric(df_2016[\"SD\"], downcast='float', errors='coerce')\n",
        "df_2016[\"SMP\"] = pd.to_numeric(df_2016[\"SMP\"], downcast='float', errors='coerce')\n",
        "df_2016[\"SMA\"] = pd.to_numeric(df_2016[\"SMA\"], downcast='float', errors='coerce')\n",
        "df_2016[\"PT\"] = pd.to_numeric(df_2016[\"PT\"], downcast='float', errors='coerce')\n",
        "\n",
        "df_2017[\"SD\"] = pd.to_numeric(df_2017[\"SD\"], downcast='float', errors='coerce')\n",
        "df_2017[\"SMP\"] = pd.to_numeric(df_2017[\"SMP\"], downcast='float', errors='coerce')\n",
        "df_2017[\"SMA\"] = pd.to_numeric(df_2017[\"SMA\"], downcast='float', errors='coerce')\n",
        "df_2017[\"PT\"] = pd.to_numeric(df_2017[\"PT\"], downcast='float', errors='coerce')\n",
        "\n",
        "df_melek_huruf_2015[\"persentase\"] = pd.to_numeric(df_melek_huruf_2015[\"persentase\"], downcast='float', errors='coerce')\n",
        "df_melek_huruf_2016[\"persentase\"] = pd.to_numeric(df_melek_huruf_2016[\"persentase\"], downcast='float', errors='coerce')"
      ],
      "metadata": {
        "id": "63642YsSN92T"
      },
      "execution_count": null,
      "outputs": []
    },
    {
      "cell_type": "code",
      "source": [
        "df_2011[\"SD\"] = df_2011[\"SD\"].fillna(value=df_2011[\"SD\"].mean())\n",
        "df_2011[\"SMP\"] = df_2011[\"SMP\"].fillna(value=df_2011[\"SMP\"].mean())\n",
        "df_2011[\"SMA\"] = df_2011[\"SMA\"].fillna(value=df_2011[\"SMA\"].mean())\n",
        "df_2011[\"PT\"] = df_2011[\"PT\"].fillna(value=df_2011[\"PT\"].mean())\n",
        "\n",
        "df_2012[\"SD\"] = df_2012[\"SD\"].fillna(value=df_2012[\"SD\"].mean())\n",
        "df_2012[\"SMP\"] = df_2012[\"SMP\"].fillna(value=df_2012[\"SMP\"].mean())\n",
        "df_2012[\"SMA\"] = df_2012[\"SMA\"].fillna(value=df_2012[\"SMA\"].mean())\n",
        "df_2012[\"PT\"] = df_2012[\"PT\"].fillna(value=df_2012[\"PT\"].mean())\n",
        "\n",
        "df_2013[\"SD\"] = df_2013[\"SD\"].fillna(value=df_2013[\"SD\"].mean())\n",
        "df_2013[\"SMP\"] = df_2013[\"SMP\"].fillna(value=df_2013[\"SMP\"].mean())\n",
        "df_2013[\"SMA\"] = df_2013[\"SMA\"].fillna(value=df_2013[\"SMA\"].mean())\n",
        "df_2013[\"PT\"] = df_2013[\"PT\"].fillna(value=df_2013[\"PT\"].mean())\n",
        "\n",
        "df_2014[\"SD\"] = df_2014[\"SD\"].fillna(value=df_2014[\"SD\"].mean())\n",
        "df_2014[\"SMP\"] = df_2014[\"SMP\"].fillna(value=df_2014[\"SMP\"].mean())\n",
        "df_2014[\"SMA\"] = df_2014[\"SMA\"].fillna(value=df_2014[\"SMA\"].mean())\n",
        "df_2014[\"PT\"] = df_2014[\"PT\"].fillna(value=df_2014[\"PT\"].mean())\n",
        "\n",
        "df_2015[\"SD\"] = df_2015[\"SD\"].fillna(value=df_2015[\"SD\"].mean())\n",
        "df_2015[\"SMP\"] = df_2015[\"SMP\"].fillna(value=df_2015[\"SMP\"].mean())\n",
        "df_2015[\"SMA\"] = df_2015[\"SMA\"].fillna(value=df_2015[\"SMA\"].mean())\n",
        "df_2015[\"PT\"] = df_2015[\"PT\"].fillna(value=df_2015[\"PT\"].mean())\n",
        "\n",
        "df_2016[\"SD\"] = df_2016[\"SD\"].fillna(value=df_2016[\"SD\"].mean())\n",
        "df_2016[\"SMP\"] = df_2016[\"SMP\"].fillna(value=df_2016[\"SMP\"].mean())\n",
        "df_2016[\"SMA\"] = df_2016[\"SMA\"].fillna(value=df_2016[\"SMA\"].mean())\n",
        "df_2016[\"PT\"] = df_2016[\"PT\"].fillna(value=df_2016[\"PT\"].mean())\n",
        "\n",
        "df_2017[\"SD\"] = df_2017[\"SD\"].fillna(value=df_2017[\"SD\"].mean())\n",
        "df_2017[\"SMP\"] = df_2017[\"SMP\"].fillna(value=df_2017[\"SMP\"].mean())\n",
        "df_2017[\"SMA\"] = df_2017[\"SMA\"].fillna(value=df_2017[\"SMA\"].mean())\n",
        "df_2017[\"PT\"] = df_2017[\"PT\"].fillna(value=df_2017[\"PT\"].mean())"
      ],
      "metadata": {
        "id": "INY6j0YUOAZX"
      },
      "execution_count": null,
      "outputs": []
    },
    {
      "cell_type": "code",
      "source": [
        "plt.figure(figsize=(15,3))\n",
        "plt.title(\"Persentase rata-rata partisipasi sekolah SD, SMP, SMA, Perguruan Tinggi di Indonesia tahun 2011 - 2017\\n\")\n",
        "sns.lineplot(data=df_plot_line[\"SD\"], label=\"Persentase Partisipasi SD\", color='red')\n",
        "\n",
        "plt.figure(figsize=(15,3))\n",
        "sns.lineplot(data=df_plot_line[\"SMP\"], label=\"Persentase Partisipasi SMP\", color='blue')\n",
        "\n",
        "plt.figure(figsize=(15,3))\n",
        "sns.lineplot(data=df_plot_line[\"SMA\"], label=\"Persentase Partisipasi SMA\", color='gray')\n",
        "\n",
        "plt.figure(figsize=(15,3))\n",
        "sns.lineplot(data=df_plot_line[\"PT\"], label=\"Persentase Partisipasi PT\", color='yellow')"
      ],
      "metadata": {
        "id": "jUpGkH_NOE7C"
      },
      "execution_count": null,
      "outputs": []
    },
    {
      "cell_type": "code",
      "source": [
        "df_plot_stacked = df_2017.copy()\n",
        "df_plot_stacked[\"Rata-rata\"] = (df_plot_stacked[\"SD\"] + df_plot_stacked[\"SMP\"] + df_plot_stacked[\"SMA\"] + df_plot_stacked[\"PT\"])/4\n",
        "df_plot_stacked[\"Total\"] = df_plot_stacked[\"SD\"] + df_plot_stacked[\"SMP\"] + df_plot_stacked[\"SMA\"] + df_plot_stacked[\"PT\"]\n",
        "df_plot_stacked[\"SD\"] = df_plot_stacked[\"SD\"]/df_plot_stacked[\"Total\"]*df_plot_stacked[\"Rata-rata\"]\n",
        "df_plot_stacked[\"SMP\"] = df_plot_stacked[\"SMP\"]/df_plot_stacked[\"Total\"]*df_plot_stacked[\"Rata-rata\"]\n",
        "df_plot_stacked[\"SMA\"] = df_plot_stacked[\"SMA\"]/df_plot_stacked[\"Total\"]*df_plot_stacked[\"Rata-rata\"]\n",
        "df_plot_stacked[\"PT\"] = df_plot_stacked[\"PT\"]/df_plot_stacked[\"Total\"]*df_plot_stacked[\"Rata-rata\"]\n",
        "\n",
        "df_plot_stacked = df_plot_stacked.sort_values('Rata-rata',ascending=False)\n",
        "df_plot_stacked.drop('Rata-rata', axis=1, inplace=True)\n",
        "df_plot_stacked.drop('Total', axis=1, inplace=True)"
      ],
      "metadata": {
        "id": "hdpQOwCIOfiW"
      },
      "execution_count": null,
      "outputs": []
    },
    {
      "cell_type": "code",
      "source": [
        "df_bar_pt = df_bar_pt.sort_values('SMA',ascending=False)\n",
        "\n",
        "# Set the width and height of the figure\n",
        "plt.figure(figsize=(6,10))\n",
        "\n",
        "# Add title\n",
        "plt.title(\"Persentase Masyarakat yang Menempuh Pendidikan SMA dari Terbesar ke Terkecil di Tiap Provinsi Tahun 2017\\n\")\n",
        "\n",
        "# sns.barplot(x=df_bar_pt.index, y=df_bar_pt['SMP'], order=df_bar_pt['SMP'].index[0:10])\n",
        "sns.barplot(x=df_bar_pt['SMA'], y=df_bar_pt.index)\n",
        "\n",
        "plt.xlim(50,100)\n",
        "# Add label for vertical axis\n",
        "plt.xlabel(\"Persentase\")"
      ],
      "metadata": {
        "id": "99kIA6jpT-FS"
      },
      "execution_count": null,
      "outputs": []
    }
  ]
}